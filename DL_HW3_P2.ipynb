{
 "cells": [
  {
   "cell_type": "markdown",
   "metadata": {},
   "source": [
    "Name : Sobhan Asasi\n",
    "\n",
    "Student Number : 400206392"
   ]
  },
  {
   "cell_type": "markdown",
   "metadata": {},
   "source": [
    "## Requirements"
   ]
  },
  {
   "cell_type": "code",
   "execution_count": 1,
   "metadata": {
    "id": "9YpSZRbI-w_D"
   },
   "outputs": [],
   "source": [
    "import torch\n",
    "import torch.nn as nn\n",
    "import torch.nn.functional as F\n",
    "import torchvision\n",
    "from torch.utils.data import Dataset, DataLoader\n",
    "from torchvision import transforms\n",
    "from torchvision.transforms import ToTensor\n",
    "from torchsummary import summary\n",
    "\n",
    "import pandas as pd\n",
    "import numpy as np\n",
    "import matplotlib.pyplot as plt\n",
    "import random\n",
    "import time"
   ]
  },
  {
   "cell_type": "code",
   "execution_count": 2,
   "metadata": {},
   "outputs": [],
   "source": [
    "def seed_everything(seed: int):\n",
    "    random.seed(seed)\n",
    "    np.random.seed(seed)\n",
    "    torch.manual_seed(seed)\n",
    "    torch.cuda.manual_seed(seed)\n",
    "    torch.backends.cudnn.deterministic = True\n",
    "    torch.backends.cudnn.benchmark = True\n",
    "\n",
    "seed_everything(42)"
   ]
  },
  {
   "cell_type": "code",
   "execution_count": 3,
   "metadata": {
    "id": "17YoSYM0DGW9"
   },
   "outputs": [],
   "source": [
    "# Set device\n",
    "device = torch.device(\"cuda\" if torch.cuda.is_available() else \"cpu\")"
   ]
  },
  {
   "cell_type": "code",
   "execution_count": 4,
   "metadata": {
    "id": "xtKJSwMzGYY3"
   },
   "outputs": [],
   "source": [
    "# Hyperparameters\n",
    "num_classes = 10\n",
    "batch_size = 64\n",
    "num_epochs = 10"
   ]
  },
  {
   "cell_type": "markdown",
   "metadata": {},
   "source": [
    "# Part 1 : Fintuning of ResNet50"
   ]
  },
  {
   "cell_type": "markdown",
   "metadata": {},
   "source": [
    "## Import Pretrained ResNet50"
   ]
  },
  {
   "cell_type": "code",
   "execution_count": 5,
   "metadata": {
    "colab": {
     "base_uri": "https://localhost:8080/"
    },
    "id": "X8nsl-Km_CWG",
    "outputId": "0a561924-6fd0-4996-ab9b-3d64f6f39b91",
    "scrolled": false
   },
   "outputs": [
    {
     "name": "stdout",
     "output_type": "stream",
     "text": [
      "torch.Size([1, 10])\n"
     ]
    }
   ],
   "source": [
    "model = torchvision.models.resnet50(pretrained=True)\n",
    "\n",
    "# Changing the requires grad of all layers to false\n",
    "for param in model.parameters():\n",
    "    param.requires_grad = False\n",
    "\n",
    "# Change classifier layer\n",
    "model.fc = nn.Linear(2048, num_classes)\n",
    "torch.nn.init.xavier_uniform_(model.fc.weight)\n",
    "\n",
    "# Test output size\n",
    "input = torch.randn((1, 3 ,224, 224))\n",
    "output = model(input)\n",
    "print(output.shape)\n",
    "#print(summary(model.to(device), (3 , 224, 224)))"
   ]
  },
  {
   "cell_type": "markdown",
   "metadata": {},
   "source": [
    "## Dataset and Dataloader"
   ]
  },
  {
   "cell_type": "code",
   "execution_count": 6,
   "metadata": {
    "colab": {
     "base_uri": "https://localhost:8080/"
    },
    "id": "oAN3kwfoCg10",
    "outputId": "ca06ca4e-9e69-44cc-fc4a-df9d9ac20a6e"
   },
   "outputs": [
    {
     "name": "stdout",
     "output_type": "stream",
     "text": [
      "Files already downloaded and verified\n",
      "Files already downloaded and verified\n"
     ]
    }
   ],
   "source": [
    "train_transforms = torchvision.transforms.Compose([\n",
    "        torchvision.transforms.Resize((224,224)),\n",
    "        #torchvision.transforms.AutoAugment(policy=torchvision.transforms.AutoAugmentPolicy.CIFAR10),\n",
    "        torchvision.transforms.ToTensor(),\n",
    "        #torchvision.transforms.Normalize(mean, stdev)\n",
    "    ])\n",
    "\n",
    "train_dataset = torchvision.datasets.CIFAR10(root='data/' ,train=True, transform=train_transforms, download=True)\n",
    "train_size = int(len(train_dataset) * 0.8)\n",
    "valid_size = len(train_dataset) - train_size\n",
    "train_dataset, valid_dataset = torch.utils.data.random_split(train_dataset,(train_size, valid_size))\n",
    "\n",
    "test_transforms = torchvision.transforms.Compose([\n",
    "        torchvision.transforms.Resize((224,224)),\n",
    "        torchvision.transforms.ToTensor(),\n",
    "        #torchvision.transforms.Normalize(mean, stdev)\n",
    "    ])\n",
    "\n",
    "test_dataset = torchvision.datasets.CIFAR10(root='data/' ,train=False, transform=test_transforms, download=True)\n",
    "#print(len(test_dataset))\n",
    "train_loader = DataLoader(dataset=train_dataset, batch_size=batch_size, shuffle=True)\n",
    "valid_loader = DataLoader(dataset=valid_dataset, batch_size=batch_size, shuffle=True)\n",
    "test_loader = DataLoader(dataset=test_dataset, batch_size=batch_size, shuffle=True)"
   ]
  },
  {
   "cell_type": "markdown",
   "metadata": {},
   "source": [
    "## Loss and Optimizer"
   ]
  },
  {
   "cell_type": "code",
   "execution_count": 7,
   "metadata": {
    "id": "R0_6u3ppHBWU"
   },
   "outputs": [],
   "source": [
    "loss_fn = nn.CrossEntropyLoss()\n",
    "sgd_learning_rate = 1e-2\n",
    "sgd_opt = torch.optim.SGD(model.parameters(), lr=sgd_learning_rate, momentum=0.9)"
   ]
  },
  {
   "cell_type": "markdown",
   "metadata": {},
   "source": [
    "## Train and Test loops"
   ]
  },
  {
   "cell_type": "code",
   "execution_count": 8,
   "metadata": {
    "id": "mhJ3ztLUGp5V"
   },
   "outputs": [],
   "source": [
    "def train_loop(dataloader, model, loss_fn, optimizer, results, device=\"cpu\"):\n",
    "    size = len(dataloader.dataset)\n",
    "    num_batches = len(dataloader)\n",
    "    train_loss, correct = 0, 0\n",
    "    model.train()\n",
    "    for batch, (X, y) in enumerate(dataloader):\n",
    "        X = X.to(device)\n",
    "        y = y.to(device)\n",
    "        # Compute prediction and loss\n",
    "        pred = model(X)\n",
    "        #print(pred.shape, y.shape)\n",
    "        loss = loss_fn(pred, y)\n",
    "        train_loss += loss.item()\n",
    "        correct += (pred.argmax(1) == y).type(torch.float).sum().item()\n",
    "        # Backpropagation\n",
    "        optimizer.zero_grad()\n",
    "        loss.backward()\n",
    "        optimizer.step()\n",
    "\n",
    "        if batch % 1000 == 0:\n",
    "            loss, current = loss.item(), batch * len(X)\n",
    "            print(f\"loss: {loss:>7f}  [{current:>5d}/{size:>5d}]\")\n",
    "    \n",
    "    train_loss /= num_batches\n",
    "    correct /= size\n",
    "    results['train loss'].append(train_loss)\n",
    "    results['train accuracy'].append(100*correct)\n",
    "    print(f\"Train Error: \\n Accuracy: {(100*correct):>0.1f}%, Avg loss: {train_loss:>8f} \\n\")\n",
    "\n",
    "def valid_loop(dataloader, model, loss_fn, results, device=\"cpu\", mode=\"valid\"):\n",
    "    size = len(dataloader.dataset)\n",
    "    num_batches = len(dataloader)\n",
    "    test_loss, correct = 0, 0\n",
    "    model.eval()\n",
    "    with torch.no_grad():\n",
    "        for X, y in dataloader:\n",
    "            X = X.to(device)\n",
    "            y = y.to(device)\n",
    "            pred = model(X)\n",
    "            test_loss += loss_fn(pred, y).item()\n",
    "            correct += (pred.argmax(1) == y).type(torch.float).sum().item()\n",
    "\n",
    "    test_loss /= num_batches\n",
    "    correct /= size\n",
    "    results['valid loss'].append(test_loss)\n",
    "    results['valid accuracy'].append(100*correct)\n",
    "    if mode == \"valid\":\n",
    "        print(f\"Validation Error: \\n Accuracy: {(100*correct):>0.1f}%, Avg loss: {test_loss:>8f} \\n\")\n",
    "    else:\n",
    "        print(f\"Test Error: \\n Accuracy: {(100*correct):>0.1f}%, Avg loss: {test_loss:>8f} \\n\")\n",
    "        "
   ]
  },
  {
   "cell_type": "code",
   "execution_count": 9,
   "metadata": {
    "id": "orCRVXZuG5Uc"
   },
   "outputs": [],
   "source": [
    "def train_valid(train_loader, valid_loader, loss_fn, optimizer, results, opt_name, model, epochs, device=\"cpu\"):\n",
    "    model.to(device)\n",
    "    print(f\"{opt_name}\\n-------------------------------\")\n",
    "    for t in range(1, epochs+1):\n",
    "      results['epoch'].append(t+1)\n",
    "      print(f\"Epoch {t}\\n-------------------------------\")\n",
    "      #scheduler.step(t)\n",
    "      train_loop(train_loader, model, loss_fn, optimizer, results, device=device)\n",
    "      valid_loop(valid_loader, model, loss_fn, results, device=device)\n",
    "    print(\"Done!\")\n",
    "    #torch.save(model, 'model_{}_{}.pth'.format(opt_name, epochs))\n",
    "    plt.figure(figsize=(20,5))\n",
    "    plt.subplot(121)\n",
    "    plt.plot(list(range(epochs)), results['train accuracy'])\n",
    "    plt.plot(list(range(epochs)), results['valid accuracy'])\n",
    "    plt.title(f'Accuracy {opt_name}')\n",
    "    plt.legend(['train accuracy', 'valid accuracy'])\n",
    "    plt.subplot(122)\n",
    "    plt.plot(list(range(epochs)), results['train loss'])\n",
    "    plt.plot(list(range(epochs)), results['valid loss'])\n",
    "    plt.title(f'Loss {opt_name}')\n",
    "    plt.legend(['train loss', 'valid loss'])"
   ]
  },
  {
   "cell_type": "code",
   "execution_count": 10,
   "metadata": {
    "colab": {
     "base_uri": "https://localhost:8080/"
    },
    "id": "UpWzPSTgHcDB",
    "outputId": "6fe92231-ebb1-44aa-8cf3-1cf23e74a15c"
   },
   "outputs": [
    {
     "name": "stdout",
     "output_type": "stream",
     "text": [
      "SGD\n",
      "-------------------------------\n",
      "Epoch 1\n",
      "-------------------------------\n",
      "loss: 2.643905  [    0/40000]\n",
      "Train Error: \n",
      " Accuracy: 73.7%, Avg loss: 0.764909 \n",
      "\n",
      "Validation Error: \n",
      " Accuracy: 78.6%, Avg loss: 0.623102 \n",
      "\n",
      "Epoch 2\n",
      "-------------------------------\n",
      "loss: 0.521628  [    0/40000]\n",
      "Train Error: \n",
      " Accuracy: 78.7%, Avg loss: 0.618446 \n",
      "\n",
      "Validation Error: \n",
      " Accuracy: 78.9%, Avg loss: 0.613464 \n",
      "\n",
      "Epoch 3\n",
      "-------------------------------\n",
      "loss: 0.774713  [    0/40000]\n",
      "Train Error: \n",
      " Accuracy: 80.1%, Avg loss: 0.580942 \n",
      "\n",
      "Validation Error: \n",
      " Accuracy: 78.8%, Avg loss: 0.616008 \n",
      "\n",
      "Epoch 4\n",
      "-------------------------------\n",
      "loss: 0.415023  [    0/40000]\n",
      "Train Error: \n",
      " Accuracy: 81.0%, Avg loss: 0.556673 \n",
      "\n",
      "Validation Error: \n",
      " Accuracy: 81.2%, Avg loss: 0.551396 \n",
      "\n",
      "Epoch 5\n",
      "-------------------------------\n",
      "loss: 0.496217  [    0/40000]\n",
      "Train Error: \n",
      " Accuracy: 81.4%, Avg loss: 0.539383 \n",
      "\n",
      "Validation Error: \n",
      " Accuracy: 81.1%, Avg loss: 0.560857 \n",
      "\n",
      "Epoch 6\n",
      "-------------------------------\n",
      "loss: 0.433766  [    0/40000]\n",
      "Train Error: \n",
      " Accuracy: 81.3%, Avg loss: 0.537697 \n",
      "\n",
      "Validation Error: \n",
      " Accuracy: 81.3%, Avg loss: 0.556816 \n",
      "\n",
      "Epoch 7\n",
      "-------------------------------\n",
      "loss: 0.294485  [    0/40000]\n",
      "Train Error: \n",
      " Accuracy: 82.1%, Avg loss: 0.517810 \n",
      "\n",
      "Validation Error: \n",
      " Accuracy: 80.0%, Avg loss: 0.597834 \n",
      "\n",
      "Epoch 8\n",
      "-------------------------------\n",
      "loss: 0.366649  [    0/40000]\n",
      "Train Error: \n",
      " Accuracy: 82.1%, Avg loss: 0.516332 \n",
      "\n",
      "Validation Error: \n",
      " Accuracy: 79.2%, Avg loss: 0.613870 \n",
      "\n",
      "Epoch 9\n",
      "-------------------------------\n",
      "loss: 0.377367  [    0/40000]\n",
      "Train Error: \n",
      " Accuracy: 82.8%, Avg loss: 0.504479 \n",
      "\n",
      "Validation Error: \n",
      " Accuracy: 81.9%, Avg loss: 0.536012 \n",
      "\n",
      "Epoch 10\n",
      "-------------------------------\n",
      "loss: 0.501254  [    0/40000]\n",
      "Train Error: \n",
      " Accuracy: 82.7%, Avg loss: 0.498229 \n",
      "\n",
      "Validation Error: \n",
      " Accuracy: 80.1%, Avg loss: 0.584671 \n",
      "\n",
      "Done!\n"
     ]
    },
    {
     "data": {
      "image/png": "[encoded data removed]",
      "text/plain": [
       "<Figure size 1440x360 with 2 Axes>"
      ]
     },
     "metadata": {
      "needs_background": "light"
     },
     "output_type": "display_data"
    }
   ],
   "source": [
    "results = {'epoch':[], 'train loss':[], 'train accuracy':[], 'valid loss':[], 'valid accuracy':[]}\n",
    "train_valid(train_loader, valid_loader, loss_fn, sgd_opt, results, opt_name=\"SGD\", model=model, epochs=num_epochs, device=device)\n",
    "torch.save(model, 'ResNet50_fintune_CIFAR10.pth')"
   ]
  },
  {
   "cell_type": "code",
   "execution_count": 11,
   "metadata": {},
   "outputs": [
    {
     "name": "stdout",
     "output_type": "stream",
     "text": [
      "Test Error: \n",
      " Accuracy: 80.3%, Avg loss: 0.577999 \n",
      "\n"
     ]
    }
   ],
   "source": [
    "valid_loop(test_loader, model, loss_fn, results, device=device, mode=\"test\")"
   ]
  },
  {
   "cell_type": "markdown",
   "metadata": {},
   "source": [
    "# Part 2: Knowledge Distillation\n",
    "\n",
    "## Teacher : ResNet50\n",
    "\n",
    "## Student : ResNet18"
   ]
  },
  {
   "cell_type": "code",
   "execution_count": 12,
   "metadata": {},
   "outputs": [],
   "source": [
    "# Loading the teacher model\n",
    "teach_model = torch.load('ResNet50_fintune_CIFAR10.pth')"
   ]
  },
  {
   "cell_type": "code",
   "execution_count": 13,
   "metadata": {},
   "outputs": [
    {
     "name": "stdout",
     "output_type": "stream",
     "text": [
      "==========================================================================================\n",
      "Layer (type:depth-idx)                   Output Shape              Param #\n",
      "==========================================================================================\n",
      "├─Conv2d: 1-1                            [-1, 64, 112, 112]        9,408\n",
      "├─BatchNorm2d: 1-2                       [-1, 64, 112, 112]        128\n",
      "├─ReLU: 1-3                              [-1, 64, 112, 112]        --\n",
      "├─MaxPool2d: 1-4                         [-1, 64, 56, 56]          --\n",
      "├─Sequential: 1-5                        [-1, 64, 56, 56]          --\n",
      "|    └─BasicBlock: 2-1                   [-1, 64, 56, 56]          --\n",
      "|    |    └─Conv2d: 3-1                  [-1, 64, 56, 56]          36,864\n",
      "|    |    └─BatchNorm2d: 3-2             [-1, 64, 56, 56]          128\n",
      "|    |    └─ReLU: 3-3                    [-1, 64, 56, 56]          --\n",
      "|    |    └─Conv2d: 3-4                  [-1, 64, 56, 56]          36,864\n",
      "|    |    └─BatchNorm2d: 3-5             [-1, 64, 56, 56]          128\n",
      "|    |    └─ReLU: 3-6                    [-1, 64, 56, 56]          --\n",
      "|    └─BasicBlock: 2-2                   [-1, 64, 56, 56]          --\n",
      "|    |    └─Conv2d: 3-7                  [-1, 64, 56, 56]          36,864\n",
      "|    |    └─BatchNorm2d: 3-8             [-1, 64, 56, 56]          128\n",
      "|    |    └─ReLU: 3-9                    [-1, 64, 56, 56]          --\n",
      "|    |    └─Conv2d: 3-10                 [-1, 64, 56, 56]          36,864\n",
      "|    |    └─BatchNorm2d: 3-11            [-1, 64, 56, 56]          128\n",
      "|    |    └─ReLU: 3-12                   [-1, 64, 56, 56]          --\n",
      "├─Sequential: 1-6                        [-1, 128, 28, 28]         --\n",
      "|    └─BasicBlock: 2-3                   [-1, 128, 28, 28]         --\n",
      "|    |    └─Conv2d: 3-13                 [-1, 128, 28, 28]         73,728\n",
      "|    |    └─BatchNorm2d: 3-14            [-1, 128, 28, 28]         256\n",
      "|    |    └─ReLU: 3-15                   [-1, 128, 28, 28]         --\n",
      "|    |    └─Conv2d: 3-16                 [-1, 128, 28, 28]         147,456\n",
      "|    |    └─BatchNorm2d: 3-17            [-1, 128, 28, 28]         256\n",
      "|    |    └─Sequential: 3-18             [-1, 128, 28, 28]         8,448\n",
      "|    |    └─ReLU: 3-19                   [-1, 128, 28, 28]         --\n",
      "|    └─BasicBlock: 2-4                   [-1, 128, 28, 28]         --\n",
      "|    |    └─Conv2d: 3-20                 [-1, 128, 28, 28]         147,456\n",
      "|    |    └─BatchNorm2d: 3-21            [-1, 128, 28, 28]         256\n",
      "|    |    └─ReLU: 3-22                   [-1, 128, 28, 28]         --\n",
      "|    |    └─Conv2d: 3-23                 [-1, 128, 28, 28]         147,456\n",
      "|    |    └─BatchNorm2d: 3-24            [-1, 128, 28, 28]         256\n",
      "|    |    └─ReLU: 3-25                   [-1, 128, 28, 28]         --\n",
      "├─Sequential: 1-7                        [-1, 256, 14, 14]         --\n",
      "|    └─BasicBlock: 2-5                   [-1, 256, 14, 14]         --\n",
      "|    |    └─Conv2d: 3-26                 [-1, 256, 14, 14]         294,912\n",
      "|    |    └─BatchNorm2d: 3-27            [-1, 256, 14, 14]         512\n",
      "|    |    └─ReLU: 3-28                   [-1, 256, 14, 14]         --\n",
      "|    |    └─Conv2d: 3-29                 [-1, 256, 14, 14]         589,824\n",
      "|    |    └─BatchNorm2d: 3-30            [-1, 256, 14, 14]         512\n",
      "|    |    └─Sequential: 3-31             [-1, 256, 14, 14]         33,280\n",
      "|    |    └─ReLU: 3-32                   [-1, 256, 14, 14]         --\n",
      "|    └─BasicBlock: 2-6                   [-1, 256, 14, 14]         --\n",
      "|    |    └─Conv2d: 3-33                 [-1, 256, 14, 14]         589,824\n",
      "|    |    └─BatchNorm2d: 3-34            [-1, 256, 14, 14]         512\n",
      "|    |    └─ReLU: 3-35                   [-1, 256, 14, 14]         --\n",
      "|    |    └─Conv2d: 3-36                 [-1, 256, 14, 14]         589,824\n",
      "|    |    └─BatchNorm2d: 3-37            [-1, 256, 14, 14]         512\n",
      "|    |    └─ReLU: 3-38                   [-1, 256, 14, 14]         --\n",
      "├─Sequential: 1-8                        [-1, 512, 7, 7]           --\n",
      "|    └─BasicBlock: 2-7                   [-1, 512, 7, 7]           --\n",
      "|    |    └─Conv2d: 3-39                 [-1, 512, 7, 7]           1,179,648\n",
      "|    |    └─BatchNorm2d: 3-40            [-1, 512, 7, 7]           1,024\n",
      "|    |    └─ReLU: 3-41                   [-1, 512, 7, 7]           --\n",
      "|    |    └─Conv2d: 3-42                 [-1, 512, 7, 7]           2,359,296\n",
      "|    |    └─BatchNorm2d: 3-43            [-1, 512, 7, 7]           1,024\n",
      "|    |    └─Sequential: 3-44             [-1, 512, 7, 7]           132,096\n",
      "|    |    └─ReLU: 3-45                   [-1, 512, 7, 7]           --\n",
      "|    └─BasicBlock: 2-8                   [-1, 512, 7, 7]           --\n",
      "|    |    └─Conv2d: 3-46                 [-1, 512, 7, 7]           2,359,296\n",
      "|    |    └─BatchNorm2d: 3-47            [-1, 512, 7, 7]           1,024\n",
      "|    |    └─ReLU: 3-48                   [-1, 512, 7, 7]           --\n",
      "|    |    └─Conv2d: 3-49                 [-1, 512, 7, 7]           2,359,296\n",
      "|    |    └─BatchNorm2d: 3-50            [-1, 512, 7, 7]           1,024\n",
      "|    |    └─ReLU: 3-51                   [-1, 512, 7, 7]           --\n",
      "├─AdaptiveAvgPool2d: 1-9                 [-1, 512, 1, 1]           --\n",
      "├─Linear: 1-10                           [-1, 10]                  5,130\n",
      "==========================================================================================\n",
      "Total params: 11,181,642\n",
      "Trainable params: 11,181,642\n",
      "Non-trainable params: 0\n",
      "Total mult-adds (G): 1.84\n",
      "==========================================================================================\n",
      "Input size (MB): 0.57\n",
      "Forward/backward pass size (MB): 37.90\n",
      "Params size (MB): 42.65\n",
      "Estimated Total Size (MB): 81.13\n",
      "==========================================================================================\n"
     ]
    },
    {
     "data": {
      "text/plain": [
       "==========================================================================================\n",
       "Layer (type:depth-idx)                   Output Shape              Param #\n",
       "==========================================================================================\n",
       "├─Conv2d: 1-1                            [-1, 64, 112, 112]        9,408\n",
       "├─BatchNorm2d: 1-2                       [-1, 64, 112, 112]        128\n",
       "├─ReLU: 1-3                              [-1, 64, 112, 112]        --\n",
       "├─MaxPool2d: 1-4                         [-1, 64, 56, 56]          --\n",
       "├─Sequential: 1-5                        [-1, 64, 56, 56]          --\n",
       "|    └─BasicBlock: 2-1                   [-1, 64, 56, 56]          --\n",
       "|    |    └─Conv2d: 3-1                  [-1, 64, 56, 56]          36,864\n",
       "|    |    └─BatchNorm2d: 3-2             [-1, 64, 56, 56]          128\n",
       "|    |    └─ReLU: 3-3                    [-1, 64, 56, 56]          --\n",
       "|    |    └─Conv2d: 3-4                  [-1, 64, 56, 56]          36,864\n",
       "|    |    └─BatchNorm2d: 3-5             [-1, 64, 56, 56]          128\n",
       "|    |    └─ReLU: 3-6                    [-1, 64, 56, 56]          --\n",
       "|    └─BasicBlock: 2-2                   [-1, 64, 56, 56]          --\n",
       "|    |    └─Conv2d: 3-7                  [-1, 64, 56, 56]          36,864\n",
       "|    |    └─BatchNorm2d: 3-8             [-1, 64, 56, 56]          128\n",
       "|    |    └─ReLU: 3-9                    [-1, 64, 56, 56]          --\n",
       "|    |    └─Conv2d: 3-10                 [-1, 64, 56, 56]          36,864\n",
       "|    |    └─BatchNorm2d: 3-11            [-1, 64, 56, 56]          128\n",
       "|    |    └─ReLU: 3-12                   [-1, 64, 56, 56]          --\n",
       "├─Sequential: 1-6                        [-1, 128, 28, 28]         --\n",
       "|    └─BasicBlock: 2-3                   [-1, 128, 28, 28]         --\n",
       "|    |    └─Conv2d: 3-13                 [-1, 128, 28, 28]         73,728\n",
       "|    |    └─BatchNorm2d: 3-14            [-1, 128, 28, 28]         256\n",
       "|    |    └─ReLU: 3-15                   [-1, 128, 28, 28]         --\n",
       "|    |    └─Conv2d: 3-16                 [-1, 128, 28, 28]         147,456\n",
       "|    |    └─BatchNorm2d: 3-17            [-1, 128, 28, 28]         256\n",
       "|    |    └─Sequential: 3-18             [-1, 128, 28, 28]         8,448\n",
       "|    |    └─ReLU: 3-19                   [-1, 128, 28, 28]         --\n",
       "|    └─BasicBlock: 2-4                   [-1, 128, 28, 28]         --\n",
       "|    |    └─Conv2d: 3-20                 [-1, 128, 28, 28]         147,456\n",
       "|    |    └─BatchNorm2d: 3-21            [-1, 128, 28, 28]         256\n",
       "|    |    └─ReLU: 3-22                   [-1, 128, 28, 28]         --\n",
       "|    |    └─Conv2d: 3-23                 [-1, 128, 28, 28]         147,456\n",
       "|    |    └─BatchNorm2d: 3-24            [-1, 128, 28, 28]         256\n",
       "|    |    └─ReLU: 3-25                   [-1, 128, 28, 28]         --\n",
       "├─Sequential: 1-7                        [-1, 256, 14, 14]         --\n",
       "|    └─BasicBlock: 2-5                   [-1, 256, 14, 14]         --\n",
       "|    |    └─Conv2d: 3-26                 [-1, 256, 14, 14]         294,912\n",
       "|    |    └─BatchNorm2d: 3-27            [-1, 256, 14, 14]         512\n",
       "|    |    └─ReLU: 3-28                   [-1, 256, 14, 14]         --\n",
       "|    |    └─Conv2d: 3-29                 [-1, 256, 14, 14]         589,824\n",
       "|    |    └─BatchNorm2d: 3-30            [-1, 256, 14, 14]         512\n",
       "|    |    └─Sequential: 3-31             [-1, 256, 14, 14]         33,280\n",
       "|    |    └─ReLU: 3-32                   [-1, 256, 14, 14]         --\n",
       "|    └─BasicBlock: 2-6                   [-1, 256, 14, 14]         --\n",
       "|    |    └─Conv2d: 3-33                 [-1, 256, 14, 14]         589,824\n",
       "|    |    └─BatchNorm2d: 3-34            [-1, 256, 14, 14]         512\n",
       "|    |    └─ReLU: 3-35                   [-1, 256, 14, 14]         --\n",
       "|    |    └─Conv2d: 3-36                 [-1, 256, 14, 14]         589,824\n",
       "|    |    └─BatchNorm2d: 3-37            [-1, 256, 14, 14]         512\n",
       "|    |    └─ReLU: 3-38                   [-1, 256, 14, 14]         --\n",
       "├─Sequential: 1-8                        [-1, 512, 7, 7]           --\n",
       "|    └─BasicBlock: 2-7                   [-1, 512, 7, 7]           --\n",
       "|    |    └─Conv2d: 3-39                 [-1, 512, 7, 7]           1,179,648\n",
       "|    |    └─BatchNorm2d: 3-40            [-1, 512, 7, 7]           1,024\n",
       "|    |    └─ReLU: 3-41                   [-1, 512, 7, 7]           --\n",
       "|    |    └─Conv2d: 3-42                 [-1, 512, 7, 7]           2,359,296\n",
       "|    |    └─BatchNorm2d: 3-43            [-1, 512, 7, 7]           1,024\n",
       "|    |    └─Sequential: 3-44             [-1, 512, 7, 7]           132,096\n",
       "|    |    └─ReLU: 3-45                   [-1, 512, 7, 7]           --\n",
       "|    └─BasicBlock: 2-8                   [-1, 512, 7, 7]           --\n",
       "|    |    └─Conv2d: 3-46                 [-1, 512, 7, 7]           2,359,296\n",
       "|    |    └─BatchNorm2d: 3-47            [-1, 512, 7, 7]           1,024\n",
       "|    |    └─ReLU: 3-48                   [-1, 512, 7, 7]           --\n",
       "|    |    └─Conv2d: 3-49                 [-1, 512, 7, 7]           2,359,296\n",
       "|    |    └─BatchNorm2d: 3-50            [-1, 512, 7, 7]           1,024\n",
       "|    |    └─ReLU: 3-51                   [-1, 512, 7, 7]           --\n",
       "├─AdaptiveAvgPool2d: 1-9                 [-1, 512, 1, 1]           --\n",
       "├─Linear: 1-10                           [-1, 10]                  5,130\n",
       "==========================================================================================\n",
       "Total params: 11,181,642\n",
       "Trainable params: 11,181,642\n",
       "Non-trainable params: 0\n",
       "Total mult-adds (G): 1.84\n",
       "==========================================================================================\n",
       "Input size (MB): 0.57\n",
       "Forward/backward pass size (MB): 37.90\n",
       "Params size (MB): 42.65\n",
       "Estimated Total Size (MB): 81.13\n",
       "=========================================================================================="
      ]
     },
     "execution_count": 13,
     "metadata": {},
     "output_type": "execute_result"
    }
   ],
   "source": [
    "# importing the student model\n",
    "stu_model = torchvision.models.resnet18(pretrained=False)\n",
    "stu_model.fc = nn.Linear(512, num_classes)\n",
    "torch.nn.init.xavier_uniform_(stu_model.fc.weight)\n",
    "summary(stu_model.to(device), (3,224,224))"
   ]
  },
  {
   "cell_type": "markdown",
   "metadata": {},
   "source": [
    "## Loss and Optimizer"
   ]
  },
  {
   "cell_type": "code",
   "execution_count": 14,
   "metadata": {},
   "outputs": [],
   "source": [
    "loss_fn = nn.CrossEntropyLoss()\n",
    "sgd_learning_rate = 1e-2\n",
    "sgd_opt = torch.optim.SGD(stu_model.parameters(), lr=sgd_learning_rate, momentum=0.9)"
   ]
  },
  {
   "cell_type": "markdown",
   "metadata": {},
   "source": [
    "## Train and Test loops"
   ]
  },
  {
   "cell_type": "code",
   "execution_count": 15,
   "metadata": {},
   "outputs": [],
   "source": [
    "def train_loop(dataloader, stu_model, teach_model, loss_fn, optimizer, results, alpha=0.9, T=2.0, device=\"cpu\"):\n",
    "    size = len(dataloader.dataset)\n",
    "    num_batches = len(dataloader)\n",
    "    train_loss, correct = 0, 0\n",
    "    stu_model.train()\n",
    "    for batch, (X, y) in enumerate(dataloader):\n",
    "        X = X.to(device)\n",
    "        y = y.to(device)\n",
    "        # Compute prediction and loss\n",
    "        pred_stu = stu_model(X)\n",
    "        pred_teach = teach_model(X)/T\n",
    "        # detach() method in PyTorch is used to separate a tensor from the computational graph by returning \n",
    "        # a new tensor that doesn't require a gradient\n",
    "        pred_teach = pred_teach.detach()\n",
    "        loss_stu = loss_fn(pred_stu, y)\n",
    "        loss_stu_teach = loss_fn(pred_stu/T, pred_teach.softmax(dim=1))\n",
    "        loss = (1 - alpha)*loss_stu + alpha*T*T*loss_stu_teach\n",
    "        \n",
    "        train_loss += loss.item()\n",
    "        correct += (pred_stu.argmax(1) == y).type(torch.float).sum().item()\n",
    "        # Backpropagation\n",
    "        optimizer.zero_grad()\n",
    "        loss.backward()\n",
    "        optimizer.step()\n",
    "\n",
    "        if batch % 1000 == 0:\n",
    "            loss, current = loss.item(), batch * len(X)\n",
    "            print(f\"loss: {loss:>7f}  [{current:>5d}/{size:>5d}]\")\n",
    "    \n",
    "    train_loss /= num_batches\n",
    "    correct /= size\n",
    "    results['train loss'].append(train_loss)\n",
    "    results['train accuracy'].append(100*correct)\n",
    "    print(f\"Train Error: \\n Accuracy: {(100*correct):>0.1f}%, Avg loss: {train_loss:>8f} \\n\")\n",
    "\n",
    "def valid_loop(dataloader, model, loss_fn, results, device=\"cpu\", mode=\"valid\"):\n",
    "    size = len(dataloader.dataset)\n",
    "    num_batches = len(dataloader)\n",
    "    test_loss, correct = 0, 0\n",
    "    model.eval()\n",
    "    with torch.no_grad():\n",
    "        for X, y in dataloader:\n",
    "            X = X.to(device)\n",
    "            y = y.to(device)\n",
    "            pred = model(X)\n",
    "            test_loss += loss_fn(pred, y).item()\n",
    "            correct += (pred.argmax(1) == y).type(torch.float).sum().item()\n",
    "\n",
    "    test_loss /= num_batches\n",
    "    correct /= size\n",
    "    results['valid loss'].append(test_loss)\n",
    "    results['valid accuracy'].append(100*correct)\n",
    "    if mode == \"valid\":\n",
    "        print(f\"Validation Error: \\n Accuracy: {(100*correct):>0.1f}%, Avg loss: {test_loss:>8f} \\n\")\n",
    "    else:\n",
    "        print(f\"Test Error: \\n Accuracy: {(100*correct):>0.1f}%, Avg loss: {test_loss:>8f} \\n\")"
   ]
  },
  {
   "cell_type": "code",
   "execution_count": 16,
   "metadata": {},
   "outputs": [],
   "source": [
    "def train_valid(train_loader, valid_loader, stu_model, teach_model, loss_fn, optimizer, results, opt_name, epochs, device=\"cpu\"):\n",
    "    stu_model.to(device)\n",
    "    teach_model.to(device)\n",
    "    print(f\"{opt_name}\\n-------------------------------\")\n",
    "    for t in range(1, epochs+1):\n",
    "      results['epoch'].append(t+1)\n",
    "      print(f\"Epoch {t}\\n-------------------------------\")\n",
    "      #scheduler.step(t)\n",
    "      train_loop(train_loader, stu_model, teach_model, loss_fn, optimizer, results, device=device)\n",
    "      valid_loop(valid_loader, stu_model, loss_fn, results, device=device)\n",
    "    print(\"Done!\")\n",
    "    #torch.save(model, 'model_{}_{}.pth'.format(opt_name, epochs))\n",
    "    plt.figure(figsize=(20,5))\n",
    "    plt.subplot(121)\n",
    "    plt.plot(list(range(epochs)), results['train accuracy'])\n",
    "    plt.plot(list(range(epochs)), results['valid accuracy'])\n",
    "    plt.title(f'Accuracy {opt_name}')\n",
    "    plt.legend(['train accuracy', 'valid accuracy'])\n",
    "    plt.subplot(122)\n",
    "    plt.plot(list(range(epochs)), results['train loss'])\n",
    "    plt.plot(list(range(epochs)), results['valid loss'])\n",
    "    plt.title(f'Loss {opt_name}')\n",
    "    plt.legend(['train loss', 'valid loss'])"
   ]
  },
  {
   "cell_type": "code",
   "execution_count": 17,
   "metadata": {},
   "outputs": [
    {
     "name": "stdout",
     "output_type": "stream",
     "text": [
      "SGD\n",
      "-------------------------------\n",
      "Epoch 1\n",
      "-------------------------------\n",
      "loss: 8.833413  [    0/40000]\n",
      "Train Error: \n",
      " Accuracy: 48.3%, Avg loss: 6.035586 \n",
      "\n",
      "Validation Error: \n",
      " Accuracy: 58.2%, Avg loss: 1.246594 \n",
      "\n",
      "Epoch 2\n",
      "-------------------------------\n",
      "loss: 5.525794  [    0/40000]\n",
      "Train Error: \n",
      " Accuracy: 68.5%, Avg loss: 4.958334 \n",
      "\n",
      "Validation Error: \n",
      " Accuracy: 62.4%, Avg loss: 1.156433 \n",
      "\n",
      "Epoch 3\n",
      "-------------------------------\n",
      "loss: 4.840415  [    0/40000]\n",
      "Train Error: \n",
      " Accuracy: 75.5%, Avg loss: 4.631238 \n",
      "\n",
      "Validation Error: \n",
      " Accuracy: 74.0%, Avg loss: 0.765830 \n",
      "\n",
      "Epoch 4\n",
      "-------------------------------\n",
      "loss: 4.462900  [    0/40000]\n",
      "Train Error: \n",
      " Accuracy: 79.3%, Avg loss: 4.422740 \n",
      "\n",
      "Validation Error: \n",
      " Accuracy: 75.3%, Avg loss: 0.712933 \n",
      "\n",
      "Epoch 5\n",
      "-------------------------------\n",
      "loss: 4.298988  [    0/40000]\n",
      "Train Error: \n",
      " Accuracy: 81.9%, Avg loss: 4.268447 \n",
      "\n",
      "Validation Error: \n",
      " Accuracy: 74.5%, Avg loss: 0.767873 \n",
      "\n",
      "Epoch 6\n",
      "-------------------------------\n",
      "loss: 3.903087  [    0/40000]\n",
      "Train Error: \n",
      " Accuracy: 83.7%, Avg loss: 4.112370 \n",
      "\n",
      "Validation Error: \n",
      " Accuracy: 74.8%, Avg loss: 0.740708 \n",
      "\n",
      "Epoch 7\n",
      "-------------------------------\n",
      "loss: 4.167282  [    0/40000]\n",
      "Train Error: \n",
      " Accuracy: 84.4%, Avg loss: 3.989445 \n",
      "\n",
      "Validation Error: \n",
      " Accuracy: 73.3%, Avg loss: 0.801159 \n",
      "\n",
      "Epoch 8\n",
      "-------------------------------\n",
      "loss: 3.281744  [    0/40000]\n",
      "Train Error: \n",
      " Accuracy: 84.4%, Avg loss: 3.903641 \n",
      "\n",
      "Validation Error: \n",
      " Accuracy: 75.7%, Avg loss: 0.707148 \n",
      "\n",
      "Epoch 9\n",
      "-------------------------------\n",
      "loss: 3.926522  [    0/40000]\n",
      "Train Error: \n",
      " Accuracy: 84.4%, Avg loss: 3.848767 \n",
      "\n",
      "Validation Error: \n",
      " Accuracy: 75.8%, Avg loss: 0.738200 \n",
      "\n",
      "Epoch 10\n",
      "-------------------------------\n",
      "loss: 4.067875  [    0/40000]\n",
      "Train Error: \n",
      " Accuracy: 84.6%, Avg loss: 3.809168 \n",
      "\n",
      "Validation Error: \n",
      " Accuracy: 76.8%, Avg loss: 0.675043 \n",
      "\n",
      "Done!\n"
     ]
    },
    {
     "data": {
      "image/png": "[encoded data removed]",
      "text/plain": [
       "<Figure size 1440x360 with 2 Axes>"
      ]
     },
     "metadata": {
      "needs_background": "light"
     },
     "output_type": "display_data"
    }
   ],
   "source": [
    "results = {'epoch':[], 'train loss':[], 'train accuracy':[], 'valid loss':[], 'valid accuracy':[]}\n",
    "train_valid(train_loader, valid_loader, stu_model, teach_model, loss_fn, sgd_opt, results, opt_name=\"SGD\", epochs=num_epochs, device=device)\n",
    "torch.save(stu_model, 'ResNet18_KD_CIFAR10.pth')"
   ]
  },
  {
   "cell_type": "code",
   "execution_count": 18,
   "metadata": {},
   "outputs": [
    {
     "name": "stdout",
     "output_type": "stream",
     "text": [
      "Test Error: \n",
      " Accuracy: 76.6%, Avg loss: 0.692448 \n",
      "\n"
     ]
    }
   ],
   "source": [
    "valid_loop(test_loader, stu_model, loss_fn, results, device=device, mode=\"test\")"
   ]
  },
  {
   "cell_type": "markdown",
   "metadata": {},
   "source": [
    "# Part 3 : Training ResNet18(without teacher)"
   ]
  },
  {
   "cell_type": "code",
   "execution_count": 19,
   "metadata": {},
   "outputs": [
    {
     "name": "stdout",
     "output_type": "stream",
     "text": [
      "\n"
     ]
    }
   ],
   "source": [
    "# importing the student model\n",
    "resnet18 = torchvision.models.resnet18(pretrained=False)\n",
    "resnet18.fc = nn.Linear(512, num_classes)\n",
    "torch.nn.init.xavier_uniform_(resnet18.fc.weight)\n",
    "print('')\n",
    "#summary(resnet18.to(device), (3,224,224))"
   ]
  },
  {
   "cell_type": "code",
   "execution_count": 20,
   "metadata": {},
   "outputs": [],
   "source": [
    "loss_fn = nn.CrossEntropyLoss()\n",
    "sgd_learning_rate = 1e-2\n",
    "sgd_opt = torch.optim.SGD(resnet18.parameters(), lr=sgd_learning_rate, momentum=0.9)"
   ]
  },
  {
   "cell_type": "code",
   "execution_count": 21,
   "metadata": {},
   "outputs": [],
   "source": [
    "def train_loop(dataloader, model, loss_fn, optimizer, results, device=\"cpu\"):\n",
    "    size = len(dataloader.dataset)\n",
    "    num_batches = len(dataloader)\n",
    "    train_loss, correct = 0, 0\n",
    "    model.train()\n",
    "    for batch, (X, y) in enumerate(dataloader):\n",
    "        X = X.to(device)\n",
    "        y = y.to(device)\n",
    "        # Compute prediction and loss\n",
    "        pred = model(X)\n",
    "        #print(pred.shape, y.shape)\n",
    "        loss = loss_fn(pred, y)\n",
    "        train_loss += loss.item()\n",
    "        correct += (pred.argmax(1) == y).type(torch.float).sum().item()\n",
    "        # Backpropagation\n",
    "        optimizer.zero_grad()\n",
    "        loss.backward()\n",
    "        optimizer.step()\n",
    "\n",
    "        if batch % 1000 == 0:\n",
    "            loss, current = loss.item(), batch * len(X)\n",
    "            print(f\"loss: {loss:>7f}  [{current:>5d}/{size:>5d}]\")\n",
    "    \n",
    "    train_loss /= num_batches\n",
    "    correct /= size\n",
    "    results['train loss'].append(train_loss)\n",
    "    results['train accuracy'].append(100*correct)\n",
    "    print(f\"Train Error: \\n Accuracy: {(100*correct):>0.1f}%, Avg loss: {train_loss:>8f} \\n\")\n",
    "\n",
    "def valid_loop(dataloader, model, loss_fn, results, device=\"cpu\", mode=\"valid\"):\n",
    "    size = len(dataloader.dataset)\n",
    "    num_batches = len(dataloader)\n",
    "    test_loss, correct = 0, 0\n",
    "    model.eval()\n",
    "    with torch.no_grad():\n",
    "        for X, y in dataloader:\n",
    "            X = X.to(device)\n",
    "            y = y.to(device)\n",
    "            pred = model(X)\n",
    "            test_loss += loss_fn(pred, y).item()\n",
    "            correct += (pred.argmax(1) == y).type(torch.float).sum().item()\n",
    "\n",
    "    test_loss /= num_batches\n",
    "    correct /= size\n",
    "    results['valid loss'].append(test_loss)\n",
    "    results['valid accuracy'].append(100*correct)\n",
    "    if mode == \"valid\":\n",
    "        print(f\"Validation Error: \\n Accuracy: {(100*correct):>0.1f}%, Avg loss: {test_loss:>8f} \\n\")\n",
    "    else:\n",
    "        print(f\"Test : \\n Accuracy: {(100*correct):>0.1f}%, Avg loss: {test_loss:>8f} \\n\")"
   ]
  },
  {
   "cell_type": "code",
   "execution_count": 22,
   "metadata": {},
   "outputs": [],
   "source": [
    "def train_valid(train_loader, valid_loader, loss_fn, optimizer, results, opt_name, model, epochs, device=\"cpu\"):\n",
    "    model.to(device)\n",
    "    print(f\"{opt_name}\\n-------------------------------\")\n",
    "    for t in range(1, epochs+1):\n",
    "        results['epoch'].append(t+1)\n",
    "        print(f\"Epoch {t}\\n-------------------------------\")\n",
    "        #scheduler.step(t)\n",
    "        train_loop(train_loader, model, loss_fn, optimizer, results, device=device)\n",
    "        valid_loop(valid_loader, model, loss_fn, results, device=device)\n",
    "    print(\"Done!\")\n",
    "    #torch.save(model, 'model_{}_{}.pth'.format(opt_name, epochs))\n",
    "    plt.figure(figsize=(20,5))\n",
    "    plt.subplot(121)\n",
    "    plt.plot(list(range(epochs)), results['train accuracy'])\n",
    "    plt.plot(list(range(epochs)), results['valid accuracy'])\n",
    "    plt.title(f'Accuracy {opt_name}')\n",
    "    plt.legend(['train accuracy', 'valid accuracy'])\n",
    "    plt.subplot(122)\n",
    "    plt.plot(list(range(epochs)), results['train loss'])\n",
    "    plt.plot(list(range(epochs)), results['valid loss'])\n",
    "    plt.title(f'Loss {opt_name}')\n",
    "    plt.legend(['train loss', 'valid loss'])"
   ]
  },
  {
   "cell_type": "code",
   "execution_count": 23,
   "metadata": {},
   "outputs": [
    {
     "name": "stdout",
     "output_type": "stream",
     "text": [
      "SGD\n",
      "-------------------------------\n",
      "Epoch 1\n",
      "-------------------------------\n",
      "loss: 3.074129  [    0/40000]\n",
      "Train Error: \n",
      " Accuracy: 46.2%, Avg loss: 1.492667 \n",
      "\n",
      "Validation Error: \n",
      " Accuracy: 54.1%, Avg loss: 1.312411 \n",
      "\n",
      "Epoch 2\n",
      "-------------------------------\n",
      "loss: 0.804499  [    0/40000]\n",
      "Train Error: \n",
      " Accuracy: 66.8%, Avg loss: 0.933485 \n",
      "\n",
      "Validation Error: \n",
      " Accuracy: 68.4%, Avg loss: 0.931418 \n",
      "\n",
      "Epoch 3\n",
      "-------------------------------\n",
      "loss: 0.755530  [    0/40000]\n",
      "Train Error: \n",
      " Accuracy: 76.1%, Avg loss: 0.681849 \n",
      "\n",
      "Validation Error: \n",
      " Accuracy: 65.9%, Avg loss: 1.019373 \n",
      "\n",
      "Epoch 4\n",
      "-------------------------------\n",
      "loss: 0.393877  [    0/40000]\n",
      "Train Error: \n",
      " Accuracy: 82.5%, Avg loss: 0.501623 \n",
      "\n",
      "Validation Error: \n",
      " Accuracy: 69.8%, Avg loss: 0.967161 \n",
      "\n",
      "Epoch 5\n",
      "-------------------------------\n",
      "loss: 0.324141  [    0/40000]\n",
      "Train Error: \n",
      " Accuracy: 88.0%, Avg loss: 0.341890 \n",
      "\n",
      "Validation Error: \n",
      " Accuracy: 66.2%, Avg loss: 1.228552 \n",
      "\n",
      "Epoch 6\n",
      "-------------------------------\n",
      "loss: 0.292894  [    0/40000]\n",
      "Train Error: \n",
      " Accuracy: 91.8%, Avg loss: 0.236462 \n",
      "\n",
      "Validation Error: \n",
      " Accuracy: 67.3%, Avg loss: 1.240706 \n",
      "\n",
      "Epoch 7\n",
      "-------------------------------\n",
      "loss: 0.133162  [    0/40000]\n",
      "Train Error: \n",
      " Accuracy: 95.0%, Avg loss: 0.145776 \n",
      "\n",
      "Validation Error: \n",
      " Accuracy: 70.5%, Avg loss: 1.356287 \n",
      "\n",
      "Epoch 8\n",
      "-------------------------------\n",
      "loss: 0.217117  [    0/40000]\n",
      "Train Error: \n",
      " Accuracy: 96.9%, Avg loss: 0.089774 \n",
      "\n",
      "Validation Error: \n",
      " Accuracy: 76.7%, Avg loss: 1.001444 \n",
      "\n",
      "Epoch 9\n",
      "-------------------------------\n",
      "loss: 0.088063  [    0/40000]\n",
      "Train Error: \n",
      " Accuracy: 97.6%, Avg loss: 0.070434 \n",
      "\n",
      "Validation Error: \n",
      " Accuracy: 70.8%, Avg loss: 1.513664 \n",
      "\n",
      "Epoch 10\n",
      "-------------------------------\n",
      "loss: 0.023586  [    0/40000]\n",
      "Train Error: \n",
      " Accuracy: 98.4%, Avg loss: 0.048890 \n",
      "\n",
      "Validation Error: \n",
      " Accuracy: 71.2%, Avg loss: 1.428676 \n",
      "\n",
      "Done!\n"
     ]
    },
    {
     "data": {
      "image/png": "[encoded data removed]",
      "text/plain": [
       "<Figure size 1440x360 with 2 Axes>"
      ]
     },
     "metadata": {
      "needs_background": "light"
     },
     "output_type": "display_data"
    }
   ],
   "source": [
    "results = {'epoch':[], 'train loss':[], 'train accuracy':[], 'valid loss':[], 'valid accuracy':[]}\n",
    "train_valid(train_loader, valid_loader, loss_fn, sgd_opt, results, opt_name=\"SGD\", model=resnet18, epochs=num_epochs, device=device)\n",
    "torch.save(resnet18, 'ResNet18_CIFAR10.pth')"
   ]
  },
  {
   "cell_type": "code",
   "execution_count": 24,
   "metadata": {},
   "outputs": [
    {
     "name": "stdout",
     "output_type": "stream",
     "text": [
      "Test : \n",
      " Accuracy: 71.6%, Avg loss: 1.407066 \n",
      "\n"
     ]
    }
   ],
   "source": [
    "valid_loop(test_loader, resnet18, loss_fn, results, device=device, mode=\"test\")"
   ]
  },
  {
   "cell_type": "markdown",
   "metadata": {},
   "source": [
    "## Comapring results\n",
    "\n",
    "- ResNet18(Student) + ResNet50(Teacher) -> Train Accuracy : 84.6% , Test Accuracy : 76.6%\n",
    "- ResNet18 -> Train Accuracy : 98.4% , Test Accuracy : 71.6%\n",
    "\n",
    "- As the results show, when we use techer model for resnet18 training, we have better test accuracy.\n",
    "- In KD algorithm we are using two models and then voting between their results and it causes better result and lower generalization error. Its a bit like ensemble learning and prevent overfitting.\n",
    "- But when we use just resnet18, in spite of better training accuracy but we have lower test accuracy. It shows that the model just learn and memorize training samples."
   ]
  },
  {
   "cell_type": "markdown",
   "metadata": {},
   "source": [
    "# Part 4 : Training ResNet50"
   ]
  },
  {
   "cell_type": "code",
   "execution_count": 25,
   "metadata": {},
   "outputs": [
    {
     "name": "stdout",
     "output_type": "stream",
     "text": [
      "\n"
     ]
    }
   ],
   "source": [
    "# importing the student model\n",
    "resnet50 = torchvision.models.resnet50(pretrained=False)\n",
    "resnet50.fc = nn.Linear(2048, num_classes)\n",
    "torch.nn.init.xavier_uniform_(resnet50.fc.weight)\n",
    "print('')\n",
    "#summary(resnet18.to(device), (3,224,224))"
   ]
  },
  {
   "cell_type": "code",
   "execution_count": 26,
   "metadata": {},
   "outputs": [],
   "source": [
    "loss_fn = nn.CrossEntropyLoss()\n",
    "sgd_learning_rate = 1e-2\n",
    "sgd_opt = torch.optim.SGD(resnet50.parameters(), lr=sgd_learning_rate, momentum=0.9)"
   ]
  },
  {
   "cell_type": "code",
   "execution_count": 27,
   "metadata": {},
   "outputs": [],
   "source": [
    "def train_loop(dataloader, model, loss_fn, optimizer, results, device=\"cpu\"):\n",
    "    size = len(dataloader.dataset)\n",
    "    num_batches = len(dataloader)\n",
    "    train_loss, correct = 0, 0\n",
    "    model.train()\n",
    "    for batch, (X, y) in enumerate(dataloader):\n",
    "        X = X.to(device)\n",
    "        y = y.to(device)\n",
    "        # Compute prediction and loss\n",
    "        pred = model(X)\n",
    "        #print(pred.shape, y.shape)\n",
    "        loss = loss_fn(pred, y)\n",
    "        train_loss += loss.item()\n",
    "        correct += (pred.argmax(1) == y).type(torch.float).sum().item()\n",
    "        # Backpropagation\n",
    "        optimizer.zero_grad()\n",
    "        loss.backward()\n",
    "        optimizer.step()\n",
    "\n",
    "        if batch % 1000 == 0:\n",
    "            loss, current = loss.item(), batch * len(X)\n",
    "            print(f\"loss: {loss:>7f}  [{current:>5d}/{size:>5d}]\")\n",
    "    \n",
    "    train_loss /= num_batches\n",
    "    correct /= size\n",
    "    results['train loss'].append(train_loss)\n",
    "    results['train accuracy'].append(100*correct)\n",
    "    print(f\"Train Error: \\n Accuracy: {(100*correct):>0.1f}%, Avg loss: {train_loss:>8f} \\n\")\n",
    "\n",
    "def valid_loop(dataloader, model, loss_fn, results, device=\"cpu\", mode=\"valid\"):\n",
    "    size = len(dataloader.dataset)\n",
    "    num_batches = len(dataloader)\n",
    "    test_loss, correct = 0, 0\n",
    "    model.eval()\n",
    "    with torch.no_grad():\n",
    "        for X, y in dataloader:\n",
    "            X = X.to(device)\n",
    "            y = y.to(device)\n",
    "            pred = model(X)\n",
    "            test_loss += loss_fn(pred, y).item()\n",
    "            correct += (pred.argmax(1) == y).type(torch.float).sum().item()\n",
    "\n",
    "    test_loss /= num_batches\n",
    "    correct /= size\n",
    "    results['valid loss'].append(test_loss)\n",
    "    results['valid accuracy'].append(100*correct)\n",
    "    if mode == \"valid\":\n",
    "        print(f\"Validation Error: \\n Accuracy: {(100*correct):>0.1f}%, Avg loss: {test_loss:>8f} \\n\")\n",
    "    else:\n",
    "        print(f\"Test Error: \\n Accuracy: {(100*correct):>0.1f}%, Avg loss: {test_loss:>8f} \\n\")"
   ]
  },
  {
   "cell_type": "code",
   "execution_count": 28,
   "metadata": {},
   "outputs": [],
   "source": [
    "def train_valid(train_loader, valid_loader, loss_fn, optimizer, results, opt_name, model, epochs, device=\"cpu\"):\n",
    "    model.to(device)\n",
    "    print(f\"{opt_name}\\n-------------------------------\")\n",
    "    for t in range(1, epochs+1):\n",
    "      results['epoch'].append(t+1)\n",
    "      print(f\"Epoch {t}\\n-------------------------------\")\n",
    "      #scheduler.step(t)\n",
    "      train_loop(train_loader, model, loss_fn, optimizer, results, device=device)\n",
    "      valid_loop(valid_loader, model, loss_fn, results, device=device)\n",
    "    print(\"Done!\")\n",
    "    #torch.save(model, 'model_{}_{}.pth'.format(opt_name, epochs))\n",
    "    plt.figure(figsize=(20,5))\n",
    "    plt.subplot(121)\n",
    "    plt.plot(list(range(epochs)), results['train accuracy'])\n",
    "    plt.plot(list(range(epochs)), results['valid accuracy'])\n",
    "    plt.title(f'Accuracy {opt_name}')\n",
    "    plt.legend(['train accuracy', 'valid accuracy'])\n",
    "    plt.subplot(122)\n",
    "    plt.plot(list(range(epochs)), results['train loss'])\n",
    "    plt.plot(list(range(epochs)), results['valid loss'])\n",
    "    plt.title(f'Loss {opt_name}')\n",
    "    plt.legend(['train loss', 'valid loss'])"
   ]
  },
  {
   "cell_type": "code",
   "execution_count": 29,
   "metadata": {},
   "outputs": [
    {
     "name": "stdout",
     "output_type": "stream",
     "text": [
      "SGD\n",
      "-------------------------------\n",
      "Epoch 1\n",
      "-------------------------------\n",
      "loss: 2.903503  [    0/40000]\n",
      "Train Error: \n",
      " Accuracy: 32.6%, Avg loss: 1.975894 \n",
      "\n",
      "Validation Error: \n",
      " Accuracy: 43.6%, Avg loss: 1.706859 \n",
      "\n",
      "Epoch 2\n",
      "-------------------------------\n",
      "loss: 1.799810  [    0/40000]\n",
      "Train Error: \n",
      " Accuracy: 48.8%, Avg loss: 1.412949 \n",
      "\n",
      "Validation Error: \n",
      " Accuracy: 54.0%, Avg loss: 1.307501 \n",
      "\n",
      "Epoch 3\n",
      "-------------------------------\n",
      "loss: 1.209891  [    0/40000]\n",
      "Train Error: \n",
      " Accuracy: 58.9%, Avg loss: 1.155599 \n",
      "\n",
      "Validation Error: \n",
      " Accuracy: 61.4%, Avg loss: 1.246021 \n",
      "\n",
      "Epoch 4\n",
      "-------------------------------\n",
      "loss: 0.976305  [    0/40000]\n",
      "Train Error: \n",
      " Accuracy: 66.8%, Avg loss: 0.928000 \n",
      "\n",
      "Validation Error: \n",
      " Accuracy: 68.2%, Avg loss: 1.003836 \n",
      "\n",
      "Epoch 5\n",
      "-------------------------------\n",
      "loss: 0.880528  [    0/40000]\n",
      "Train Error: \n",
      " Accuracy: 73.1%, Avg loss: 0.761870 \n",
      "\n",
      "Validation Error: \n",
      " Accuracy: 71.3%, Avg loss: 1.400713 \n",
      "\n",
      "Epoch 6\n",
      "-------------------------------\n",
      "loss: 0.575134  [    0/40000]\n",
      "Train Error: \n",
      " Accuracy: 78.2%, Avg loss: 0.621435 \n",
      "\n",
      "Validation Error: \n",
      " Accuracy: 72.4%, Avg loss: 0.982190 \n",
      "\n",
      "Epoch 7\n",
      "-------------------------------\n",
      "loss: 0.348224  [    0/40000]\n",
      "Train Error: \n",
      " Accuracy: 82.5%, Avg loss: 0.501271 \n",
      "\n",
      "Validation Error: \n",
      " Accuracy: 70.2%, Avg loss: 1.018412 \n",
      "\n",
      "Epoch 8\n",
      "-------------------------------\n",
      "loss: 0.295348  [    0/40000]\n",
      "Train Error: \n",
      " Accuracy: 85.7%, Avg loss: 0.405443 \n",
      "\n",
      "Validation Error: \n",
      " Accuracy: 72.5%, Avg loss: 1.081446 \n",
      "\n",
      "Epoch 9\n",
      "-------------------------------\n",
      "loss: 0.241372  [    0/40000]\n",
      "Train Error: \n",
      " Accuracy: 89.0%, Avg loss: 0.313422 \n",
      "\n",
      "Validation Error: \n",
      " Accuracy: 72.4%, Avg loss: 1.081823 \n",
      "\n",
      "Epoch 10\n",
      "-------------------------------\n",
      "loss: 0.211320  [    0/40000]\n",
      "Train Error: \n",
      " Accuracy: 91.4%, Avg loss: 0.243838 \n",
      "\n",
      "Validation Error: \n",
      " Accuracy: 70.7%, Avg loss: 1.140239 \n",
      "\n",
      "Done!\n"
     ]
    },
    {
     "data": {
      "image/png": "[encoded data removed]",
      "text/plain": [
       "<Figure size 1440x360 with 2 Axes>"
      ]
     },
     "metadata": {
      "needs_background": "light"
     },
     "output_type": "display_data"
    }
   ],
   "source": [
    "results = {'epoch':[], 'train loss':[], 'train accuracy':[], 'valid loss':[], 'valid accuracy':[]}\n",
    "train_valid(train_loader, valid_loader, loss_fn, sgd_opt, results, opt_name=\"SGD\", model=resnet50, epochs=num_epochs, device=device)\n",
    "torch.save(resnet50, 'ResNet50_CIFAR10.pth')"
   ]
  },
  {
   "cell_type": "code",
   "execution_count": 30,
   "metadata": {},
   "outputs": [
    {
     "name": "stdout",
     "output_type": "stream",
     "text": [
      "Test Error: \n",
      " Accuracy: 70.9%, Avg loss: 1.147585 \n",
      "\n"
     ]
    }
   ],
   "source": [
    "valid_loop(test_loader, resnet50, loss_fn, results, device=device, mode=\"test\")"
   ]
  },
  {
   "cell_type": "markdown",
   "metadata": {},
   "source": [
    "## Comapring the results\n",
    "\n",
    "- Pre-trained ResNet50 -> Train Accuracy : 82% , Test Accuracy : 80% \n",
    "- ResNet50 -> Train Accuracy : 91.4% , Test Accuracy : 70.9%\n",
    "\n",
    "- By considering the results, when we train a complete resnet50 we have better train accuracy, because we are traing more layers than just a fully-connected layer in pretrained model.\n",
    "- As the results show, when we train all layers there is a significant difference between train and test accuracy because resnet50 is so complicated model for CIFAR-10 dataset and it causes overfitting. "
   ]
  },
  {
   "cell_type": "code",
   "execution_count": null,
   "metadata": {},
   "outputs": [],
   "source": []
  }
 ],
 "metadata": {
  "accelerator": "GPU",
  "colab": {
   "provenance": []
  },
  "gpuClass": "standard",
  "kernelspec": {
   "display_name": "Python 3 (ipykernel)",
   "language": "python",
   "name": "python3"
  },
  "language_info": {
   "codemirror_mode": {
    "name": "ipython",
    "version": 3
   },
   "file_extension": ".py",
   "mimetype": "text/x-python",
   "name": "python",
   "nbconvert_exporter": "python",
   "pygments_lexer": "ipython3",
   "version": "3.10.4"
  }
 },
 "nbformat": 4,
 "nbformat_minor": 1
}
